{
 "cells": [
  {
   "cell_type": "code",
   "execution_count": 1,
   "metadata": {},
   "outputs": [],
   "source": [
    "# This notebook contains code for executing the tasks described (and depicted) in\n",
    "# Tutorial Step 1: Oracle and Data Generation of the BFBrain documentation.\n",
    "\n",
    "import sympy as sym\n",
    "from sympy import I\n",
    "from sympy.physics.quantum.dagger import Dagger\n",
    "\n",
    "# Write a SymPy function representing the scalar potential.\n",
    "def V_2HDM(phi, lam):\n",
    "    Phi1 = sym.Matrix([0, phi[0]])\n",
    "    Phi2 = sym.Matrix([phi[1] + I*phi[3], phi[2] + I*phi[4]])\n",
    "    phi1sq = Dagger(Phi1).dot(Phi1)\n",
    "    phi2sq = sym.simplify(Dagger(Phi2).dot(Phi2))\n",
    "    phi12 = sym.simplify(Dagger(Phi1).dot(Phi2))\n",
    "    phi21 = sym.simplify(Dagger(Phi2).dot(Phi1))\n",
    "\n",
    "    QVec = (sym.Matrix([(phi1sq**2)/2, (phi2sq**2)/2,\n",
    "                 phi1sq*phi2sq, phi12*phi21, \n",
    "                 (phi12**2 + phi21**2)/2,\n",
    "                 I*(phi12**2 - phi21**2)/2,\n",
    "                 phi1sq*(phi12 + phi21),\n",
    "                 I*phi1sq*(phi12 - phi21),\n",
    "                 phi2sq*(phi12 + phi21),\n",
    "                 I*phi2sq*(phi12-phi21)])).applyfunc(sym.simplify)\n",
    "    return QVec.dot(lam)"
   ]
  },
  {
   "cell_type": "code",
   "execution_count": 2,
   "metadata": {},
   "outputs": [
    {
     "data": {
      "text/latex": [
       "$\\displaystyle \\frac{\\lambda_{0} \\phi_{0}^{4}}{2} + \\frac{\\lambda_{1} \\left(\\phi_{1}^{2} + \\phi_{2}^{2} + \\phi_{3}^{2} + \\phi_{4}^{2}\\right)^{2}}{2} + \\lambda_{2} \\phi_{0}^{2} \\left(\\phi_{1}^{2} + \\phi_{2}^{2} + \\phi_{3}^{2} + \\phi_{4}^{2}\\right) + \\lambda_{3} \\phi_{0}^{2} \\left(\\phi_{2}^{2} + \\phi_{4}^{2}\\right) + \\lambda_{4} \\phi_{0}^{2} \\left(\\phi_{2}^{2} - \\phi_{4}^{2}\\right) - 2 \\lambda_{5} \\phi_{0}^{2} \\phi_{2} \\phi_{4} + 2 \\lambda_{6} \\phi_{0}^{3} \\phi_{2} - 2 \\lambda_{7} \\phi_{0}^{3} \\phi_{4} + 2 \\lambda_{8} \\phi_{0} \\phi_{2} \\left(\\phi_{1}^{2} + \\phi_{2}^{2} + \\phi_{3}^{2} + \\phi_{4}^{2}\\right) - 2 \\lambda_{9} \\phi_{0} \\phi_{4} \\left(\\phi_{1}^{2} + \\phi_{2}^{2} + \\phi_{3}^{2} + \\phi_{4}^{2}\\right)$"
      ],
      "text/plain": [
       "lambda0*phi0**4/2 + lambda1*(phi1**2 + phi2**2 + phi3**2 + phi4**2)**2/2 + lambda2*phi0**2*(phi1**2 + phi2**2 + phi3**2 + phi4**2) + lambda3*phi0**2*(phi2**2 + phi4**2) + lambda4*phi0**2*(phi2**2 - phi4**2) - 2*lambda5*phi0**2*phi2*phi4 + 2*lambda6*phi0**3*phi2 - 2*lambda7*phi0**3*phi4 + 2*lambda8*phi0*phi2*(phi1**2 + phi2**2 + phi3**2 + phi4**2) - 2*lambda9*phi0*phi4*(phi1**2 + phi2**2 + phi3**2 + phi4**2)"
      ]
     },
     "execution_count": 2,
     "metadata": {},
     "output_type": "execute_result"
    }
   ],
   "source": [
    "# Check that the SymPy function does not contain any implicit\n",
    "# matrix operations, e.g. trace, that sympy.lambdify can't parse.\n",
    "phisym = sym.Array(sym.symbols('phi:5', real = True))\n",
    "lamsym = sym.Array(sym.symbols('lambda:10', real = True))\n",
    "V_2HDM(phisym, lamsym)"
   ]
  },
  {
   "cell_type": "code",
   "execution_count": 4,
   "metadata": {},
   "outputs": [],
   "source": [
    "# Initialize the DataManager object with the default oracle.\n",
    "from bfbrain import DataManager\n",
    "\n",
    "dm = DataManager.from_func(V_2HDM, 5, 10, niter = 100)"
   ]
  },
  {
   "cell_type": "code",
   "execution_count": 5,
   "metadata": {},
   "outputs": [
    {
     "name": "stdout",
     "output_type": "stream",
     "text": [
      "recompiling vectorized_minTest...\n"
     ]
    },
    {
     "data": {
      "text/plain": [
       "100"
      ]
     },
     "execution_count": 5,
     "metadata": {},
     "output_type": "execute_result"
    }
   ],
   "source": [
    "# Test the default oracle (this can take as long as an hour to run-- feel free to skip!)\n",
    "# If our niter gives robust results, this should return 100. If it returns something\n",
    "# larger, we should reinitialize dm with that being the value of niter.\n",
    "dm.check_labeller(100000, niter_step = 50, count_success = 5)"
   ]
  },
  {
   "cell_type": "code",
   "execution_count": 8,
   "metadata": {},
   "outputs": [],
   "source": [
    "# Advanced usage: Custom oracles.\n",
    "import numpy as np\n",
    "\n",
    "# Specify a custom oracle function, which only checks that the model is bounded-from-below for\n",
    "# vev configurations where only one Higgs gets a vev.\n",
    "def label_fn(func, phi_len, polar, rng, lam, **kwargs):\n",
    "    # Assuming our numerical function will come from the V_2HDM function we specified earlier,\n",
    "    # we specify inputs which correspond to only one of the two Higgs fields having a nonzero vev.\n",
    "    input1 = np.array([1.,0.,0.,0.,0.])\n",
    "    input2 = np.array([0., 0., 1., 0., 0.])\n",
    "    return np.array([func(input1, x)[0] > 0 and func(input2, x)[0] > 0 for x in lam])\n",
    "\n",
    "# Now we also specify a new function label_check, which will replace the default method \n",
    "# called by DataManager.check_labeller. This method just returns the fraction of\n",
    "# the input sets of quartic coefficients (lam) that are labelled bounded-from-below.\n",
    "# For our new custom oracle function, this should be about 0.25 for uniformly sampled\n",
    "# sets of quartic coefficients.\n",
    "def label_check(func, phi_len, polar, rng, lam, **kwargs):\n",
    "    #Notice that label_check must take the same arguments as label_fn, but can return any type and may take additional keyword arguments.\n",
    "    n_inputs = len(lam)\n",
    "    return np.count_nonzero(label_fn(func, phi_len, polar, rng, lam)) / n_inputs\n",
    "\n",
    "\n",
    "dm_custom_oracle = DataManager.from_func(V_2HDM, 5, 10, lambdify_mode = 'numpy', label_fn = label_fn, label_check = label_check)"
   ]
  },
  {
   "cell_type": "code",
   "execution_count": 9,
   "metadata": {},
   "outputs": [
    {
     "data": {
      "text/plain": [
       "0.2533"
      ]
     },
     "execution_count": 9,
     "metadata": {},
     "output_type": "execute_result"
    }
   ],
   "source": [
    "# Run dm_custom_oracle.check_labeller(100000) to check that our custom oracle and oracle checker\n",
    "# function are working.\n",
    "dm_custom_oracle.check_labeller(100000)"
   ]
  }
 ],
 "metadata": {
  "kernelspec": {
   "display_name": "base",
   "language": "python",
   "name": "python3"
  },
  "language_info": {
   "codemirror_mode": {
    "name": "ipython",
    "version": 3
   },
   "file_extension": ".py",
   "mimetype": "text/x-python",
   "name": "python",
   "nbconvert_exporter": "python",
   "pygments_lexer": "ipython3",
   "version": "3.10.9"
  },
  "orig_nbformat": 4
 },
 "nbformat": 4,
 "nbformat_minor": 2
}
